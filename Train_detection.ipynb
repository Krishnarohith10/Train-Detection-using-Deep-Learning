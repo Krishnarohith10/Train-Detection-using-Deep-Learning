{
 "cells": [
  {
   "cell_type": "code",
   "execution_count": 1,
   "metadata": {},
   "outputs": [
    {
     "name": "stderr",
     "output_type": "stream",
     "text": [
      "Using TensorFlow backend.\n"
     ]
    }
   ],
   "source": [
    "import numpy as np\n",
    "import h5py\n",
    "import matplotlib.pyplot as plt\n",
    "from sklearn.model_selection import train_test_split as split\n",
    "import keras as k"
   ]
  },
  {
   "cell_type": "code",
   "execution_count": 2,
   "metadata": {},
   "outputs": [
    {
     "data": {
      "text/plain": [
       "((2000, 100, 100, 3), (2000, 1))"
      ]
     },
     "execution_count": 2,
     "metadata": {},
     "output_type": "execute_result"
    }
   ],
   "source": [
    "file = h5py.File('DataSet.h5', 'r')\n",
    "data = file.get('dataset_1')\n",
    "X_data = data.get('input')\n",
    "y_data = data.get('output')\n",
    "X_data, y_data = X_data[()], y_data[()]\n",
    "X_data.shape, y_data.shape"
   ]
  },
  {
   "cell_type": "code",
   "execution_count": 3,
   "metadata": {},
   "outputs": [],
   "source": [
    "X_train, X_test, y_train, y_test = split(X_data, y_data)"
   ]
  },
  {
   "cell_type": "code",
   "execution_count": 6,
   "metadata": {},
   "outputs": [],
   "source": [
    "X_input = X_train.shape[1:]"
   ]
  },
  {
   "cell_type": "code",
   "execution_count": 7,
   "metadata": {},
   "outputs": [
    {
     "name": "stderr",
     "output_type": "stream",
     "text": [
      "W0805 20:29:04.823742  4640 deprecation_wrapper.py:119] From C:\\Users\\krishna rohit\\Anaconda3\\envs\\machine-learning\\lib\\site-packages\\keras\\backend\\tensorflow_backend.py:517: The name tf.placeholder is deprecated. Please use tf.compat.v1.placeholder instead.\n",
      "\n",
      "W0805 20:29:04.829829  4640 deprecation_wrapper.py:119] From C:\\Users\\krishna rohit\\Anaconda3\\envs\\machine-learning\\lib\\site-packages\\keras\\backend\\tensorflow_backend.py:4138: The name tf.random_uniform is deprecated. Please use tf.random.uniform instead.\n",
      "\n",
      "W0805 20:29:05.000830  4640 deprecation_wrapper.py:119] From C:\\Users\\krishna rohit\\Anaconda3\\envs\\machine-learning\\lib\\site-packages\\keras\\backend\\tensorflow_backend.py:3976: The name tf.nn.max_pool is deprecated. Please use tf.nn.max_pool2d instead.\n",
      "\n",
      "W0805 20:29:05.041236  4640 deprecation_wrapper.py:119] From C:\\Users\\krishna rohit\\Anaconda3\\envs\\machine-learning\\lib\\site-packages\\keras\\backend\\tensorflow_backend.py:133: The name tf.placeholder_with_default is deprecated. Please use tf.compat.v1.placeholder_with_default instead.\n",
      "\n",
      "W0805 20:29:05.093666  4640 deprecation.py:506] From C:\\Users\\krishna rohit\\Anaconda3\\envs\\machine-learning\\lib\\site-packages\\keras\\backend\\tensorflow_backend.py:3445: calling dropout (from tensorflow.python.ops.nn_ops) with keep_prob is deprecated and will be removed in a future version.\n",
      "Instructions for updating:\n",
      "Please use `rate` instead of `keep_prob`. Rate should be set to `rate = 1 - keep_prob`.\n"
     ]
    }
   ],
   "source": [
    "model = k.models.Sequential()\n",
    "model.add(k.layers.Conv2D(32, kernel_size = (5, 5), activation = 'relu', input_shape = X_input))\n",
    "model.add(k.layers.Conv2D(64, kernel_size = (3, 3), activation = 'relu'))\n",
    "model.add(k.layers.MaxPooling2D(pool_size = (2, 2)))\n",
    "model.add(k.layers.Dropout(0.25))\n",
    "model.add(k.layers.Flatten())\n",
    "model.add(k.layers.Dense(128, activation = 'relu'))\n",
    "model.add(k.layers.Dropout(0.5))\n",
    "model.add(k.layers.Dense(1, activation = 'softmax'))"
   ]
  },
  {
   "cell_type": "code",
   "execution_count": 8,
   "metadata": {},
   "outputs": [
    {
     "name": "stderr",
     "output_type": "stream",
     "text": [
      "W0805 20:29:16.793885  4640 deprecation_wrapper.py:119] From C:\\Users\\krishna rohit\\Anaconda3\\envs\\machine-learning\\lib\\site-packages\\keras\\optimizers.py:790: The name tf.train.Optimizer is deprecated. Please use tf.compat.v1.train.Optimizer instead.\n",
      "\n",
      "W0805 20:29:16.843769  4640 deprecation_wrapper.py:119] From C:\\Users\\krishna rohit\\Anaconda3\\envs\\machine-learning\\lib\\site-packages\\keras\\backend\\tensorflow_backend.py:3376: The name tf.log is deprecated. Please use tf.math.log instead.\n",
      "\n",
      "W0805 20:29:16.859370  4640 deprecation.py:323] From C:\\Users\\krishna rohit\\Anaconda3\\envs\\machine-learning\\lib\\site-packages\\tensorflow\\python\\ops\\nn_impl.py:180: add_dispatch_support.<locals>.wrapper (from tensorflow.python.ops.array_ops) is deprecated and will be removed in a future version.\n",
      "Instructions for updating:\n",
      "Use tf.where in 2.0, which has the same broadcast rule as np.where\n"
     ]
    }
   ],
   "source": [
    "model.compile(optimizer = 'adadelta', loss = 'binary_crossentropy', metrics = ['accuracy'])"
   ]
  },
  {
   "cell_type": "code",
   "execution_count": 9,
   "metadata": {},
   "outputs": [
    {
     "name": "stdout",
     "output_type": "stream",
     "text": [
      "Epoch 1/10\n",
      "1500/1500 [==============================] - 200s 133ms/step - loss: 8.0668 - acc: 0.4940\n",
      "Epoch 2/10\n",
      "1500/1500 [==============================] - 238s 159ms/step - loss: 8.0668 - acc: 0.4940\n",
      "Epoch 3/10\n",
      "1500/1500 [==============================] - 219s 146ms/step - loss: 8.0668 - acc: 0.4940\n",
      "Epoch 4/10\n",
      "1500/1500 [==============================] - 179s 120ms/step - loss: 8.0668 - acc: 0.4940\n",
      "Epoch 5/10\n",
      "1500/1500 [==============================] - 197s 131ms/step - loss: 8.0668 - acc: 0.4940\n",
      "Epoch 6/10\n",
      "1500/1500 [==============================] - 200s 133ms/step - loss: 8.0668 - acc: 0.4940\n",
      "Epoch 7/10\n",
      "1500/1500 [==============================] - 203s 136ms/step - loss: 8.0668 - acc: 0.4940\n",
      "Epoch 8/10\n",
      "1500/1500 [==============================] - 197s 132ms/step - loss: 8.0668 - acc: 0.4940\n",
      "Epoch 9/10\n",
      "1500/1500 [==============================] - 175s 117ms/step - loss: 8.0668 - acc: 0.4940\n",
      "Epoch 10/10\n",
      "1500/1500 [==============================] - 164s 109ms/step - loss: 8.0668 - acc: 0.4940\n"
     ]
    },
    {
     "data": {
      "text/plain": [
       "<keras.callbacks.History at 0x20578bdcac8>"
      ]
     },
     "execution_count": 9,
     "metadata": {},
     "output_type": "execute_result"
    }
   ],
   "source": [
    "model.fit(X_train, y_train, batch_size = 32, epochs = 10, verbose = 1)"
   ]
  },
  {
   "cell_type": "code",
   "execution_count": 10,
   "metadata": {},
   "outputs": [
    {
     "name": "stdout",
     "output_type": "stream",
     "text": [
      "500/500 [==============================] - 10s 21ms/step\n"
     ]
    },
    {
     "data": {
      "text/plain": [
       "[7.684229476928711, 0.5179999985694885]"
      ]
     },
     "execution_count": 10,
     "metadata": {},
     "output_type": "execute_result"
    }
   ],
   "source": [
    "model.evaluate(X_test, y_test, batch_size = 64, verbose = 1)"
   ]
  },
  {
   "cell_type": "code",
   "execution_count": null,
   "metadata": {},
   "outputs": [],
   "source": []
  }
 ],
 "metadata": {
  "kernelspec": {
   "display_name": "Python 3",
   "language": "python",
   "name": "python3"
  },
  "language_info": {
   "codemirror_mode": {
    "name": "ipython",
    "version": 3
   },
   "file_extension": ".py",
   "mimetype": "text/x-python",
   "name": "python",
   "nbconvert_exporter": "python",
   "pygments_lexer": "ipython3",
   "version": "3.6.8"
  }
 },
 "nbformat": 4,
 "nbformat_minor": 2
}
